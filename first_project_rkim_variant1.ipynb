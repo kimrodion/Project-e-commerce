{
 "cells": [
  {
   "cell_type": "code",
   "execution_count": 1,
   "metadata": {},
   "outputs": [],
   "source": [
    "import pandas as pd\n",
    "import numpy as np\n",
    "%matplotlib inline\n",
    "import matplotlib.pyplot as plt\n",
    "import seaborn as sns\n",
    "import plotly.express as px"
   ]
  },
  {
   "cell_type": "code",
   "execution_count": 2,
   "metadata": {},
   "outputs": [],
   "source": [
    "sns.set(\n",
    "    font_scale =2,\n",
    "    style      ='whitegrid',\n",
    "    rc         ={'figure.figsize':(20,7)}\n",
    ")"
   ]
  },
  {
   "cell_type": "code",
   "execution_count": 3,
   "metadata": {},
   "outputs": [],
   "source": [
    "customers = pd.read_csv('olist_customers_dataset.csv')\n",
    "\n",
    "orders    = pd.read_csv('olist_orders_dataset.csv', parse_dates=['order_purchase_timestamp',\n",
    "                                                                 'order_approved_at',\n",
    "                                                                 'order_delivered_carrier_date', \n",
    "                                                                 'order_delivered_customer_date',\n",
    "                                                                 'order_estimated_delivery_date'])\n",
    "\n",
    "items     = pd.read_csv('olist_order_items_dataset.csv', parse_dates=['shipping_limit_date'])"
   ]
  },
  {
   "cell_type": "code",
   "execution_count": 4,
   "metadata": {},
   "outputs": [
    {
     "data": {
      "text/plain": [
       "customer_id                 0\n",
       "customer_unique_id          0\n",
       "customer_zip_code_prefix    0\n",
       "customer_city               0\n",
       "customer_state              0\n",
       "dtype: int64"
      ]
     },
     "execution_count": 4,
     "metadata": {},
     "output_type": "execute_result"
    }
   ],
   "source": [
    "customers.isna().sum()\n",
    "# Проверяем пустые значения"
   ]
  },
  {
   "cell_type": "code",
   "execution_count": 5,
   "metadata": {},
   "outputs": [
    {
     "data": {
      "text/plain": [
       "order_id                            0\n",
       "customer_id                         0\n",
       "order_status                        0\n",
       "order_purchase_timestamp            0\n",
       "order_approved_at                 160\n",
       "order_delivered_carrier_date     1783\n",
       "order_delivered_customer_date    2965\n",
       "order_estimated_delivery_date       0\n",
       "dtype: int64"
      ]
     },
     "execution_count": 5,
     "metadata": {},
     "output_type": "execute_result"
    }
   ],
   "source": [
    "orders.isna().sum()\n",
    "# Проверяем пустые значения"
   ]
  },
  {
   "cell_type": "code",
   "execution_count": 6,
   "metadata": {},
   "outputs": [
    {
     "data": {
      "text/plain": [
       "order_id               0\n",
       "order_item_id          0\n",
       "product_id             0\n",
       "seller_id              0\n",
       "shipping_limit_date    0\n",
       "price                  0\n",
       "freight_value          0\n",
       "dtype: int64"
      ]
     },
     "execution_count": 6,
     "metadata": {},
     "output_type": "execute_result"
    }
   ],
   "source": [
    "items.isna().sum()\n",
    "# Проверяем пустые значения"
   ]
  },
  {
   "cell_type": "code",
   "execution_count": 7,
   "metadata": {},
   "outputs": [
    {
     "data": {
      "text/plain": [
       "0"
      ]
     },
     "execution_count": 7,
     "metadata": {},
     "output_type": "execute_result"
    }
   ],
   "source": [
    "customers.duplicated().sum()\n",
    "# Проверяем дублирующиеся данные"
   ]
  },
  {
   "cell_type": "code",
   "execution_count": 8,
   "metadata": {},
   "outputs": [
    {
     "data": {
      "text/plain": [
       "0"
      ]
     },
     "execution_count": 8,
     "metadata": {},
     "output_type": "execute_result"
    }
   ],
   "source": [
    "orders.duplicated().sum()\n",
    "# Проверяем дублирующиеся данные"
   ]
  },
  {
   "cell_type": "code",
   "execution_count": 9,
   "metadata": {},
   "outputs": [
    {
     "data": {
      "text/plain": [
       "0"
      ]
     },
     "execution_count": 9,
     "metadata": {},
     "output_type": "execute_result"
    }
   ],
   "source": [
    "items.duplicated().sum()\n",
    "# Проверяем дублирующиеся данные"
   ]
  },
  {
   "cell_type": "markdown",
   "metadata": {},
   "source": [
    "В данных есть аномалии, такие как: 'order_delivered_carrier_date > order_delivered_customer_date' и 'order_purchase_timestamp > order_delivered_carrier_date' спишем их на ошибку или сбой в системе. \n",
    "\n",
    "Есть несколько заказов, у которых есть дата доставки, но статус == недействителен/отменен\n",
    "\n",
    "Также в данных есть доставленные заказы без подтверждения оплаты(14), возможно статус забыли обновить, на всякий случай их считать тоже не будем, к тому же их не так много."
   ]
  },
  {
   "cell_type": "markdown",
   "metadata": {},
   "source": [
    "# Сколько у нас пользователей, которые совершили покупку только один раз?"
   ]
  },
  {
   "cell_type": "markdown",
   "metadata": {},
   "source": [
    "За покупку будем считать доставленные заказы с подтвержденным фактом оплаты. \n",
    "В данных много заказов доставленных с большим опозданием, поэтому заказы доставленные после 45 дней от ожидаемой даты доставки, за покупку не считаем."
   ]
  },
  {
   "cell_type": "code",
   "execution_count": 10,
   "metadata": {},
   "outputs": [],
   "source": [
    "orders['final_date'] = orders['order_estimated_delivery_date'] + pd.Timedelta(days=45)\n",
    "# Создаем столбец для сравнения даты доставки и максимальной даты"
   ]
  },
  {
   "cell_type": "code",
   "execution_count": 11,
   "metadata": {},
   "outputs": [],
   "source": [
    "purchases = orders.query(\"order_status == 'delivered' and order_delivered_customer_date < final_date\") \\\n",
    "                  .dropna(subset=['order_approved_at'])\n",
    "# Фильтруем доставленные в срок заказы с оплатой"
   ]
  },
  {
   "cell_type": "code",
   "execution_count": 12,
   "metadata": {},
   "outputs": [],
   "source": [
    "purchases_by_customers = pd.merge(purchases[['customer_id', 'order_id']], \n",
    "                                  customers[['customer_id', 'customer_unique_id']], \n",
    "                                  on='customer_id')\n",
    "# Мерджим данные для подсчета количества заказов"
   ]
  },
  {
   "cell_type": "code",
   "execution_count": 13,
   "metadata": {},
   "outputs": [
    {
     "data": {
      "text/html": [
       "<div>\n",
       "<style scoped>\n",
       "    .dataframe tbody tr th:only-of-type {\n",
       "        vertical-align: middle;\n",
       "    }\n",
       "\n",
       "    .dataframe tbody tr th {\n",
       "        vertical-align: top;\n",
       "    }\n",
       "\n",
       "    .dataframe thead th {\n",
       "        text-align: right;\n",
       "    }\n",
       "</style>\n",
       "<table border=\"1\" class=\"dataframe\">\n",
       "  <thead>\n",
       "    <tr style=\"text-align: right;\">\n",
       "      <th></th>\n",
       "      <th>customer_unique_id</th>\n",
       "      <th>orders</th>\n",
       "    </tr>\n",
       "  </thead>\n",
       "  <tbody>\n",
       "    <tr>\n",
       "      <th>0</th>\n",
       "      <td>0000366f3b9a7992bf8c76cfdf3221e2</td>\n",
       "      <td>1</td>\n",
       "    </tr>\n",
       "    <tr>\n",
       "      <th>1</th>\n",
       "      <td>0000b849f77a49e4a4ce2b2a4ca5be3f</td>\n",
       "      <td>1</td>\n",
       "    </tr>\n",
       "    <tr>\n",
       "      <th>2</th>\n",
       "      <td>0000f46a3911fa3c0805444483337064</td>\n",
       "      <td>1</td>\n",
       "    </tr>\n",
       "    <tr>\n",
       "      <th>3</th>\n",
       "      <td>0000f6ccb0745a6a4b88665a16c9f078</td>\n",
       "      <td>1</td>\n",
       "    </tr>\n",
       "    <tr>\n",
       "      <th>4</th>\n",
       "      <td>0004aac84e0df4da2b147fca70cf8255</td>\n",
       "      <td>1</td>\n",
       "    </tr>\n",
       "  </tbody>\n",
       "</table>\n",
       "</div>"
      ],
      "text/plain": [
       "                 customer_unique_id  orders\n",
       "0  0000366f3b9a7992bf8c76cfdf3221e2       1\n",
       "1  0000b849f77a49e4a4ce2b2a4ca5be3f       1\n",
       "2  0000f46a3911fa3c0805444483337064       1\n",
       "3  0000f6ccb0745a6a4b88665a16c9f078       1\n",
       "4  0004aac84e0df4da2b147fca70cf8255       1"
      ]
     },
     "execution_count": 13,
     "metadata": {},
     "output_type": "execute_result"
    }
   ],
   "source": [
    "only_one_purchase = purchases_by_customers.groupby('customer_unique_id', as_index=False) \\\n",
    "                                          .order_id.count() \\\n",
    "                                          .rename(columns={'order_id':'orders'}) \\\n",
    "                                          .query('orders == 1')\n",
    "\n",
    "only_one_purchase.head(5)\n",
    "# Получаем количество пользователей, которые совершили покупку только один раз(90386)"
   ]
  },
  {
   "cell_type": "markdown",
   "metadata": {},
   "source": [
    "# Сколько заказов в месяц в среднем не доставляется по разным причинам (вывести детализацию по причинам)?"
   ]
  },
  {
   "cell_type": "markdown",
   "metadata": {},
   "source": [
    "За сегодняшнюю дату будем принимать максимальную дату в датафрейме orders."
   ]
  },
  {
   "cell_type": "code",
   "execution_count": 14,
   "metadata": {},
   "outputs": [],
   "source": [
    "orders['month_start'] = orders['order_purchase_timestamp'].apply(lambda x: x - pd.offsets.MonthBegin(1)).dt.date\n",
    "# Создаем столбец начала месяца для дальнейшей группировки"
   ]
  },
  {
   "cell_type": "code",
   "execution_count": 15,
   "metadata": {},
   "outputs": [],
   "source": [
    "undelivered_orders = orders[~orders['order_id'].isin(purchases['order_id'])] \\\n",
    "                     .query(\"final_date < order_purchase_timestamp.max()\")\n",
    "# Находим недоставленные заказы и убираем те, которые еще могут быть доставлены в срок"
   ]
  },
  {
   "cell_type": "code",
   "execution_count": 16,
   "metadata": {},
   "outputs": [
    {
     "data": {
      "text/plain": [
       "123.12"
      ]
     },
     "execution_count": 16,
     "metadata": {},
     "output_type": "execute_result"
    }
   ],
   "source": [
    "undelivered_orders.groupby('month_start', as_index=False) \\\n",
    "                  .order_id.count().order_id.sum() / orders.month_start.nunique()\n",
    "# Находим сколько заказов за месяц в среднем не доставляется за все время, делим на количество месяцев в датафрейме"
   ]
  },
  {
   "cell_type": "code",
   "execution_count": 17,
   "metadata": {},
   "outputs": [],
   "source": [
    "undelivered_by_status = undelivered_orders.groupby('order_status', as_index=False) \\\n",
    "                                          .order_id.count() \\\n",
    "                                          .rename(columns={'order_id':'orders'})\n",
    "\n",
    "undelivered_by_status['avg_by_months'] = undelivered_by_status['orders'] / 25\n",
    "# Группируем не доставленные заказы по статусам"
   ]
  },
  {
   "cell_type": "code",
   "execution_count": 18,
   "metadata": {},
   "outputs": [],
   "source": [
    "lost = undelivered_by_status.loc[~undelivered_by_status['order_status'] \\\n",
    "                            .isin(['canceled', 'unavailable', 'delivered', 'shipped']), 'orders'].sum()\n",
    "\n",
    "undelivered_group = pd.DataFrame({\n",
    "    'order_status': ['canceled', 'unavailable', 'delivered', 'shipped', 'lost'],\n",
    "    'orders': [undelivered_by_status.loc[undelivered_by_status['order_status'] == 'canceled', 'orders'].iloc[0],\n",
    "               undelivered_by_status.loc[undelivered_by_status['order_status'] == 'unavailable', 'orders'].iloc[0],\n",
    "               undelivered_by_status.loc[undelivered_by_status['order_status'] == 'delivered', 'orders'].iloc[0],\n",
    "               undelivered_by_status.loc[undelivered_by_status['order_status'] == 'shipped', 'orders'].iloc[0], lost]\n",
    "})\n",
    "\n",
    "undelivered_group['avg_by_months'] = undelivered_group['orders'] / 25\n",
    "# Новый датафрейм с недоставленными заказами, и средним числом недоставленных заказов за все время"
   ]
  },
  {
   "cell_type": "code",
   "execution_count": 19,
   "metadata": {},
   "outputs": [
    {
     "data": {
      "text/html": [
       "<div>\n",
       "<style scoped>\n",
       "    .dataframe tbody tr th:only-of-type {\n",
       "        vertical-align: middle;\n",
       "    }\n",
       "\n",
       "    .dataframe tbody tr th {\n",
       "        vertical-align: top;\n",
       "    }\n",
       "\n",
       "    .dataframe thead th {\n",
       "        text-align: right;\n",
       "    }\n",
       "</style>\n",
       "<table border=\"1\" class=\"dataframe\">\n",
       "  <thead>\n",
       "    <tr style=\"text-align: right;\">\n",
       "      <th></th>\n",
       "      <th>order_status</th>\n",
       "      <th>orders</th>\n",
       "      <th>avg_by_months</th>\n",
       "    </tr>\n",
       "  </thead>\n",
       "  <tbody>\n",
       "    <tr>\n",
       "      <th>0</th>\n",
       "      <td>canceled</td>\n",
       "      <td>563</td>\n",
       "      <td>22.52</td>\n",
       "    </tr>\n",
       "    <tr>\n",
       "      <th>1</th>\n",
       "      <td>unavailable</td>\n",
       "      <td>609</td>\n",
       "      <td>24.36</td>\n",
       "    </tr>\n",
       "    <tr>\n",
       "      <th>2</th>\n",
       "      <td>delivered</td>\n",
       "      <td>181</td>\n",
       "      <td>7.24</td>\n",
       "    </tr>\n",
       "    <tr>\n",
       "      <th>3</th>\n",
       "      <td>shipped</td>\n",
       "      <td>1103</td>\n",
       "      <td>44.12</td>\n",
       "    </tr>\n",
       "    <tr>\n",
       "      <th>4</th>\n",
       "      <td>lost</td>\n",
       "      <td>622</td>\n",
       "      <td>24.88</td>\n",
       "    </tr>\n",
       "  </tbody>\n",
       "</table>\n",
       "</div>"
      ],
      "text/plain": [
       "  order_status  orders  avg_by_months\n",
       "0     canceled     563          22.52\n",
       "1  unavailable     609          24.36\n",
       "2    delivered     181           7.24\n",
       "3      shipped    1103          44.12\n",
       "4         lost     622          24.88"
      ]
     },
     "execution_count": 19,
     "metadata": {},
     "output_type": "execute_result"
    }
   ],
   "source": [
    "undelivered_group\n",
    "# Canceled - отмененные, \n",
    "# Unavailable - недоступные, \n",
    "# Delivered - доставленные с задержкой, \n",
    "# Shipped - отправленные, но потерявшиеся, либо долгая доставка\n",
    "# Lost - застрявшие на начальных этапах, либо не оплатили, либо отменили по разным причинам, а статус просто не обновили"
   ]
  },
  {
   "cell_type": "code",
   "execution_count": 20,
   "metadata": {},
   "outputs": [
    {
     "data": {
      "image/png": "[encoded data removed]",
      "text/plain": [
       "<Figure size 2000x700 with 1 Axes>"
      ]
     },
     "metadata": {},
     "output_type": "display_data"
    }
   ],
   "source": [
    "ax1 = sns.barplot(data=undelivered_group, y='avg_by_months', x='order_status')\n",
    "for index, row in undelivered_group.iterrows():\n",
    "    ax1.text(row.name, row.avg_by_months, round(row.avg_by_months, 2), color='black', ha=\"center\")\n",
    "sns.despine()\n",
    "sns.despine()"
   ]
  },
  {
   "cell_type": "markdown",
   "metadata": {},
   "source": [
    "Заказы, застрявшие на начальных этапах, либо не оплатили, либо отменили по разным причинам, а статус просто не обновили.\n",
    "Отправленные заказы либо потеряны, либо прошел максимальный срок возможной доставки.\n",
    "Заказы со статусом 'delivered' были доставлены не в срок, поэтому их тоже посчитал как не доставленные."
   ]
  },
  {
   "cell_type": "code",
   "execution_count": 21,
   "metadata": {},
   "outputs": [
    {
     "data": {
      "image/png": "[encoded data removed]",
      "text/plain": [
       "<Figure size 2000x700 with 1 Axes>"
      ]
     },
     "metadata": {},
     "output_type": "display_data"
    }
   ],
   "source": [
    "ax = sns.barplot(data=undelivered_by_status, y='avg_by_months', x='order_status')\n",
    "for index, row in undelivered_by_status.iterrows():\n",
    "    ax.text(row.name, row.avg_by_months, round(row.avg_by_months, 2), color='black', ha=\"center\")\n",
    "sns.despine()\n",
    "# Недоставленные по статусам"
   ]
  },
  {
   "cell_type": "markdown",
   "metadata": {},
   "source": [
    "# По каждому товару определить, в какой день недели товар чаще всего покупается."
   ]
  },
  {
   "cell_type": "markdown",
   "metadata": {},
   "source": [
    "Для подсчета будем использовать датафрейм 'purchases' с данными, которые считаем за покупку."
   ]
  },
  {
   "cell_type": "code",
   "execution_count": 22,
   "metadata": {},
   "outputs": [],
   "source": [
    "purchases['day_of_week'] = purchases['order_purchase_timestamp'].dt.day_name()\n",
    "# Создаем колонку с днем недели"
   ]
  },
  {
   "cell_type": "code",
   "execution_count": 23,
   "metadata": {},
   "outputs": [],
   "source": [
    "products_by_purchases = pd.merge(items[['order_id', 'product_id']], \n",
    "                                 purchases[['order_id', 'day_of_week']], \n",
    "                                 how='inner',\n",
    "                                 on='order_id')\n",
    "# Мерджим данные для подсчета"
   ]
  },
  {
   "cell_type": "code",
   "execution_count": 24,
   "metadata": {},
   "outputs": [
    {
     "data": {
      "text/html": [
       "<div>\n",
       "<style scoped>\n",
       "    .dataframe tbody tr th:only-of-type {\n",
       "        vertical-align: middle;\n",
       "    }\n",
       "\n",
       "    .dataframe tbody tr th {\n",
       "        vertical-align: top;\n",
       "    }\n",
       "\n",
       "    .dataframe thead th {\n",
       "        text-align: right;\n",
       "    }\n",
       "</style>\n",
       "<table border=\"1\" class=\"dataframe\">\n",
       "  <thead>\n",
       "    <tr style=\"text-align: right;\">\n",
       "      <th></th>\n",
       "      <th>product_id</th>\n",
       "      <th>day_of_week</th>\n",
       "      <th>frequency</th>\n",
       "    </tr>\n",
       "  </thead>\n",
       "  <tbody>\n",
       "    <tr>\n",
       "      <th>15576</th>\n",
       "      <td>422879e10f46682990de24d770e7f83d</td>\n",
       "      <td>Wednesday</td>\n",
       "      <td>93</td>\n",
       "    </tr>\n",
       "    <tr>\n",
       "      <th>35704</th>\n",
       "      <td>99a4788cb24856965c36a24e339b6058</td>\n",
       "      <td>Monday</td>\n",
       "      <td>91</td>\n",
       "    </tr>\n",
       "    <tr>\n",
       "      <th>40128</th>\n",
       "      <td>aca2eb7d00ea1a7b8ebd4e68314663af</td>\n",
       "      <td>Thursday</td>\n",
       "      <td>88</td>\n",
       "    </tr>\n",
       "    <tr>\n",
       "      <th>19683</th>\n",
       "      <td>53b36df67ebb7c41585e8d54d6772e08</td>\n",
       "      <td>Tuesday</td>\n",
       "      <td>76</td>\n",
       "    </tr>\n",
       "    <tr>\n",
       "      <th>13252</th>\n",
       "      <td>389d119b48cf3043d311335e499d9c6b</td>\n",
       "      <td>Thursday</td>\n",
       "      <td>67</td>\n",
       "    </tr>\n",
       "    <tr>\n",
       "      <th>...</th>\n",
       "      <td>...</td>\n",
       "      <td>...</td>\n",
       "      <td>...</td>\n",
       "    </tr>\n",
       "    <tr>\n",
       "      <th>23456</th>\n",
       "      <td>6413f8d0daa3a38887a14917589e7da5</td>\n",
       "      <td>Wednesday</td>\n",
       "      <td>1</td>\n",
       "    </tr>\n",
       "    <tr>\n",
       "      <th>23458</th>\n",
       "      <td>641444946fe3a839d726c32804cd1aff</td>\n",
       "      <td>Tuesday</td>\n",
       "      <td>1</td>\n",
       "    </tr>\n",
       "    <tr>\n",
       "      <th>23459</th>\n",
       "      <td>6416e0ecd625ef4adf18658a9aca2e10</td>\n",
       "      <td>Thursday</td>\n",
       "      <td>1</td>\n",
       "    </tr>\n",
       "    <tr>\n",
       "      <th>23460</th>\n",
       "      <td>64187b994e1b15e6a59a6f72688fbea8</td>\n",
       "      <td>Friday</td>\n",
       "      <td>1</td>\n",
       "    </tr>\n",
       "    <tr>\n",
       "      <th>59874</th>\n",
       "      <td>fffe9eeff12fcbd74a2f2b007dde0c58</td>\n",
       "      <td>Wednesday</td>\n",
       "      <td>1</td>\n",
       "    </tr>\n",
       "  </tbody>\n",
       "</table>\n",
       "<p>32182 rows × 3 columns</p>\n",
       "</div>"
      ],
      "text/plain": [
       "                             product_id day_of_week  frequency\n",
       "15576  422879e10f46682990de24d770e7f83d   Wednesday         93\n",
       "35704  99a4788cb24856965c36a24e339b6058      Monday         91\n",
       "40128  aca2eb7d00ea1a7b8ebd4e68314663af    Thursday         88\n",
       "19683  53b36df67ebb7c41585e8d54d6772e08     Tuesday         76\n",
       "13252  389d119b48cf3043d311335e499d9c6b    Thursday         67\n",
       "...                                 ...         ...        ...\n",
       "23456  6413f8d0daa3a38887a14917589e7da5   Wednesday          1\n",
       "23458  641444946fe3a839d726c32804cd1aff     Tuesday          1\n",
       "23459  6416e0ecd625ef4adf18658a9aca2e10    Thursday          1\n",
       "23460  64187b994e1b15e6a59a6f72688fbea8      Friday          1\n",
       "59874  fffe9eeff12fcbd74a2f2b007dde0c58   Wednesday          1\n",
       "\n",
       "[32182 rows x 3 columns]"
      ]
     },
     "execution_count": 24,
     "metadata": {},
     "output_type": "execute_result"
    }
   ],
   "source": [
    "products_by_purchases.groupby(['product_id', 'day_of_week'], as_index=False) \\\n",
    "                     .order_id.count() \\\n",
    "                     .sort_values('order_id', ascending=False) \\\n",
    "                     .groupby('product_id').head(1) \\\n",
    "                     .rename(columns={'order_id':'frequency'})\n",
    "# Находим в какой день недели товар чаще всего покупается"
   ]
  },
  {
   "cell_type": "markdown",
   "metadata": {},
   "source": [
    "# Сколько у каждого из пользователей в среднем покупок в неделю (по месяцам)?"
   ]
  },
  {
   "cell_type": "code",
   "execution_count": 25,
   "metadata": {},
   "outputs": [],
   "source": [
    "purchases_by_month = pd.merge(customers[['customer_unique_id', 'customer_id']],\n",
    "                              purchases[['customer_id', 'order_id', 'order_purchase_timestamp']], \n",
    "                              on='customer_id')\n",
    "# Создаем новый датафрейм для подсчета покупок "
   ]
  },
  {
   "cell_type": "code",
   "execution_count": 26,
   "metadata": {},
   "outputs": [],
   "source": [
    "import calendar\n",
    "\n",
    "purchases_by_month['weeks_in_month'] = round((purchases_by_month['order_purchase_timestamp'] \\\n",
    "                                       .apply(lambda x: calendar.monthrange(x.year, x.month)[1])) / 7, 2)\n",
    "# Находим количество недель в месяце"
   ]
  },
  {
   "cell_type": "code",
   "execution_count": 27,
   "metadata": {},
   "outputs": [],
   "source": [
    "purchases_by_month['year_month'] = purchases_by_month['order_purchase_timestamp'].dt.strftime('%Y-%m')\n",
    "# Создаем колонку с удобным форматом даты для группировки"
   ]
  },
  {
   "cell_type": "code",
   "execution_count": 28,
   "metadata": {},
   "outputs": [],
   "source": [
    "orders_by_months = purchases_by_month.groupby(['customer_unique_id', 'year_month', 'weeks_in_month'], as_index=False) \\\n",
    "                                     .order_id.count() \\\n",
    "                                     .rename(columns={'order_id':'orders'})\n",
    "# Группируем по пользователю и месяцу и считаем заказы"
   ]
  },
  {
   "cell_type": "code",
   "execution_count": 29,
   "metadata": {},
   "outputs": [],
   "source": [
    "orders_by_months['orders_per_week'] = round(orders_by_months['orders'] / orders_by_months['weeks_in_month'], 2)\n",
    "# Считаем число заказов в неделю"
   ]
  },
  {
   "cell_type": "code",
   "execution_count": 30,
   "metadata": {},
   "outputs": [
    {
     "data": {
      "text/html": [
       "<div>\n",
       "<style scoped>\n",
       "    .dataframe tbody tr th:only-of-type {\n",
       "        vertical-align: middle;\n",
       "    }\n",
       "\n",
       "    .dataframe tbody tr th {\n",
       "        vertical-align: top;\n",
       "    }\n",
       "\n",
       "    .dataframe thead th {\n",
       "        text-align: right;\n",
       "    }\n",
       "</style>\n",
       "<table border=\"1\" class=\"dataframe\">\n",
       "  <thead>\n",
       "    <tr style=\"text-align: right;\">\n",
       "      <th></th>\n",
       "      <th>customer_unique_id</th>\n",
       "      <th>year_month</th>\n",
       "      <th>weeks_in_month</th>\n",
       "      <th>orders</th>\n",
       "      <th>orders_per_week</th>\n",
       "    </tr>\n",
       "  </thead>\n",
       "  <tbody>\n",
       "    <tr>\n",
       "      <th>0</th>\n",
       "      <td>0000366f3b9a7992bf8c76cfdf3221e2</td>\n",
       "      <td>2018-05</td>\n",
       "      <td>4.43</td>\n",
       "      <td>1</td>\n",
       "      <td>0.23</td>\n",
       "    </tr>\n",
       "    <tr>\n",
       "      <th>1</th>\n",
       "      <td>0000b849f77a49e4a4ce2b2a4ca5be3f</td>\n",
       "      <td>2018-05</td>\n",
       "      <td>4.43</td>\n",
       "      <td>1</td>\n",
       "      <td>0.23</td>\n",
       "    </tr>\n",
       "    <tr>\n",
       "      <th>2</th>\n",
       "      <td>0000f46a3911fa3c0805444483337064</td>\n",
       "      <td>2017-03</td>\n",
       "      <td>4.43</td>\n",
       "      <td>1</td>\n",
       "      <td>0.23</td>\n",
       "    </tr>\n",
       "    <tr>\n",
       "      <th>3</th>\n",
       "      <td>0000f6ccb0745a6a4b88665a16c9f078</td>\n",
       "      <td>2017-10</td>\n",
       "      <td>4.43</td>\n",
       "      <td>1</td>\n",
       "      <td>0.23</td>\n",
       "    </tr>\n",
       "    <tr>\n",
       "      <th>4</th>\n",
       "      <td>0004aac84e0df4da2b147fca70cf8255</td>\n",
       "      <td>2017-11</td>\n",
       "      <td>4.29</td>\n",
       "      <td>1</td>\n",
       "      <td>0.23</td>\n",
       "    </tr>\n",
       "    <tr>\n",
       "      <th>...</th>\n",
       "      <td>...</td>\n",
       "      <td>...</td>\n",
       "      <td>...</td>\n",
       "      <td>...</td>\n",
       "      <td>...</td>\n",
       "    </tr>\n",
       "    <tr>\n",
       "      <th>95011</th>\n",
       "      <td>fffcf5a5ff07b0908bd4e2dbc735a684</td>\n",
       "      <td>2017-06</td>\n",
       "      <td>4.29</td>\n",
       "      <td>1</td>\n",
       "      <td>0.23</td>\n",
       "    </tr>\n",
       "    <tr>\n",
       "      <th>95012</th>\n",
       "      <td>fffea47cd6d3cc0a88bd621562a9d061</td>\n",
       "      <td>2017-12</td>\n",
       "      <td>4.43</td>\n",
       "      <td>1</td>\n",
       "      <td>0.23</td>\n",
       "    </tr>\n",
       "    <tr>\n",
       "      <th>95013</th>\n",
       "      <td>ffff371b4d645b6ecea244b27531430a</td>\n",
       "      <td>2017-02</td>\n",
       "      <td>4.00</td>\n",
       "      <td>1</td>\n",
       "      <td>0.25</td>\n",
       "    </tr>\n",
       "    <tr>\n",
       "      <th>95014</th>\n",
       "      <td>ffff5962728ec6157033ef9805bacc48</td>\n",
       "      <td>2018-05</td>\n",
       "      <td>4.43</td>\n",
       "      <td>1</td>\n",
       "      <td>0.23</td>\n",
       "    </tr>\n",
       "    <tr>\n",
       "      <th>95015</th>\n",
       "      <td>ffffd2657e2aad2907e67c3e9daecbeb</td>\n",
       "      <td>2017-05</td>\n",
       "      <td>4.43</td>\n",
       "      <td>1</td>\n",
       "      <td>0.23</td>\n",
       "    </tr>\n",
       "  </tbody>\n",
       "</table>\n",
       "<p>95016 rows × 5 columns</p>\n",
       "</div>"
      ],
      "text/plain": [
       "                     customer_unique_id year_month  weeks_in_month  orders  \\\n",
       "0      0000366f3b9a7992bf8c76cfdf3221e2    2018-05            4.43       1   \n",
       "1      0000b849f77a49e4a4ce2b2a4ca5be3f    2018-05            4.43       1   \n",
       "2      0000f46a3911fa3c0805444483337064    2017-03            4.43       1   \n",
       "3      0000f6ccb0745a6a4b88665a16c9f078    2017-10            4.43       1   \n",
       "4      0004aac84e0df4da2b147fca70cf8255    2017-11            4.29       1   \n",
       "...                                 ...        ...             ...     ...   \n",
       "95011  fffcf5a5ff07b0908bd4e2dbc735a684    2017-06            4.29       1   \n",
       "95012  fffea47cd6d3cc0a88bd621562a9d061    2017-12            4.43       1   \n",
       "95013  ffff371b4d645b6ecea244b27531430a    2017-02            4.00       1   \n",
       "95014  ffff5962728ec6157033ef9805bacc48    2018-05            4.43       1   \n",
       "95015  ffffd2657e2aad2907e67c3e9daecbeb    2017-05            4.43       1   \n",
       "\n",
       "       orders_per_week  \n",
       "0                 0.23  \n",
       "1                 0.23  \n",
       "2                 0.23  \n",
       "3                 0.23  \n",
       "4                 0.23  \n",
       "...                ...  \n",
       "95011             0.23  \n",
       "95012             0.23  \n",
       "95013             0.25  \n",
       "95014             0.23  \n",
       "95015             0.23  \n",
       "\n",
       "[95016 rows x 5 columns]"
      ]
     },
     "execution_count": 30,
     "metadata": {},
     "output_type": "execute_result"
    }
   ],
   "source": [
    "orders_by_months"
   ]
  },
  {
   "cell_type": "markdown",
   "metadata": {},
   "source": [
    "# Используя pandas, проведи когортный анализ пользователей. В период с января по декабрь выяви когорту с самым высоким retention на 3й месяц."
   ]
  },
  {
   "cell_type": "markdown",
   "metadata": {},
   "source": [
    "В задании не написано за какой год, но так как полная информация за период с января по декабрь есть только за 2017 год, то и считать будем за 2017 год. За покупку будем считать то же, что и в 1 задании. "
   ]
  },
  {
   "cell_type": "code",
   "execution_count": 31,
   "metadata": {
    "scrolled": true
   },
   "outputs": [],
   "source": [
    "purchases_cohorts = pd.merge(customers[['customer_unique_id', 'customer_id']],\n",
    "                             purchases[['customer_id', 'order_id', 'order_purchase_timestamp']],  \n",
    "                             on='customer_id')\n",
    "# Создаем датафрейм для подсчета"
   ]
  },
  {
   "cell_type": "code",
   "execution_count": 32,
   "metadata": {},
   "outputs": [],
   "source": [
    "purchases_cohorts['order_month'] = purchases_cohorts['order_purchase_timestamp'].dt.strftime('%Y-%m')\n",
    "# Создаем колонку с годом и месяцем соверешения покупки"
   ]
  },
  {
   "cell_type": "code",
   "execution_count": 33,
   "metadata": {},
   "outputs": [],
   "source": [
    "purchases_cohorts = purchases_cohorts.query('order_month >= \"2017-01\" and order_month <= \"2017-12\"').reset_index(drop=True)\n",
    "# Фильтруем данные"
   ]
  },
  {
   "cell_type": "code",
   "execution_count": 34,
   "metadata": {},
   "outputs": [],
   "source": [
    "purchases_cohorts.set_index('customer_unique_id', inplace=True)\n",
    "# Добавим индекс по customer_unique_id\n",
    "\n",
    "purchases_cohorts['join_month'] = purchases_cohorts.groupby(level=0)['order_purchase_timestamp'] \\\n",
    "                                                   .min().apply(lambda x: x.strftime('%Y-%m'))\n",
    "# Добавим столбец первой покупки join_month\n",
    "\n",
    "purchases_cohorts.reset_index(inplace=True)\n",
    "# Переиндексируем датафрейм"
   ]
  },
  {
   "cell_type": "code",
   "execution_count": 35,
   "metadata": {},
   "outputs": [],
   "source": [
    "purchases_cohorts.insert(len(purchases_cohorts.columns), 'total_orders', 0, allow_duplicates=False)\n",
    "# Создадим столбец в котором далее поместим количество заказов"
   ]
  },
  {
   "cell_type": "code",
   "execution_count": 36,
   "metadata": {},
   "outputs": [],
   "source": [
    "grouped = purchases_cohorts.groupby(['join_month', 'order_month'])\n",
    "\n",
    "cohorts = grouped.agg({'customer_unique_id': pd.Series.nunique,\n",
    "                       'total_orders': pd.Series.count})\n",
    "# Количество уникальных пользователей и общее количество заказов"
   ]
  },
  {
   "cell_type": "code",
   "execution_count": 37,
   "metadata": {},
   "outputs": [],
   "source": [
    "cohorts.rename(columns={'customer_unique_id': 'total_users'}, inplace=True)\n",
    "# Переименуем колонки"
   ]
  },
  {
   "cell_type": "code",
   "execution_count": 38,
   "metadata": {},
   "outputs": [
    {
     "name": "stderr",
     "output_type": "stream",
     "text": [
      "C:\\Users\\User\\AppData\\Local\\Temp\\ipykernel_12148\\3273015896.py:4: FutureWarning: Not prepending group keys to the result index of transform-like apply. In the future, the group keys will be included in the index, regardless of whether the applied function returns a like-indexed object.\n",
      "To preserve the previous behavior, use\n",
      "\n",
      "\t>>> .groupby(..., group_keys=False)\n",
      "\n",
      "To adopt the future behavior and silence this warning, use \n",
      "\n",
      "\t>>> .groupby(..., group_keys=True)\n",
      "  cohorts = cohorts.groupby(level=0).apply(cohort_period)\n"
     ]
    }
   ],
   "source": [
    "def cohort_period(df):\n",
    "    df['cohort_period'] = np.arange(len(df)) + 1\n",
    "    return df\n",
    "cohorts = cohorts.groupby(level=0).apply(cohort_period)\n",
    "# Нумеруем когорты"
   ]
  },
  {
   "cell_type": "code",
   "execution_count": 39,
   "metadata": {},
   "outputs": [],
   "source": [
    "cohorts.reset_index(inplace=True)\n",
    "cohorts.set_index(['cohort_period', 'join_month'], inplace=True)\n",
    "# Переиндексируем датафрейм"
   ]
  },
  {
   "cell_type": "code",
   "execution_count": 40,
   "metadata": {},
   "outputs": [
    {
     "data": {
      "text/plain": [
       "join_month\n",
       "2017-01     713\n",
       "2017-02    1612\n",
       "2017-03    2488\n",
       "2017-04    2250\n",
       "2017-05    3446\n",
       "Name: total_users, dtype: int64"
      ]
     },
     "execution_count": 40,
     "metadata": {},
     "output_type": "execute_result"
    }
   ],
   "source": [
    "cohort_group_size = cohorts['total_users'].groupby(level=1).first()\n",
    "cohort_group_size.head()\n",
    "# Создадим ряд содержаший размер каждой когорты join_month"
   ]
  },
  {
   "cell_type": "code",
   "execution_count": 41,
   "metadata": {},
   "outputs": [
    {
     "data": {
      "text/html": [
       "<style type=\"text/css\">\n",
       "#T_8337b_row2_col8 {\n",
       "  background-color: yellow;\n",
       "}\n",
       "</style>\n",
       "<table id=\"T_8337b\">\n",
       "  <thead>\n",
       "    <tr>\n",
       "      <th class=\"index_name level0\" >join_month</th>\n",
       "      <th id=\"T_8337b_level0_col0\" class=\"col_heading level0 col0\" >2017-01</th>\n",
       "      <th id=\"T_8337b_level0_col1\" class=\"col_heading level0 col1\" >2017-02</th>\n",
       "      <th id=\"T_8337b_level0_col2\" class=\"col_heading level0 col2\" >2017-03</th>\n",
       "      <th id=\"T_8337b_level0_col3\" class=\"col_heading level0 col3\" >2017-04</th>\n",
       "      <th id=\"T_8337b_level0_col4\" class=\"col_heading level0 col4\" >2017-05</th>\n",
       "      <th id=\"T_8337b_level0_col5\" class=\"col_heading level0 col5\" >2017-06</th>\n",
       "      <th id=\"T_8337b_level0_col6\" class=\"col_heading level0 col6\" >2017-07</th>\n",
       "      <th id=\"T_8337b_level0_col7\" class=\"col_heading level0 col7\" >2017-08</th>\n",
       "      <th id=\"T_8337b_level0_col8\" class=\"col_heading level0 col8\" >2017-09</th>\n",
       "      <th id=\"T_8337b_level0_col9\" class=\"col_heading level0 col9\" >2017-10</th>\n",
       "      <th id=\"T_8337b_level0_col10\" class=\"col_heading level0 col10\" >2017-11</th>\n",
       "      <th id=\"T_8337b_level0_col11\" class=\"col_heading level0 col11\" >2017-12</th>\n",
       "    </tr>\n",
       "    <tr>\n",
       "      <th class=\"index_name level0\" >cohort_period</th>\n",
       "      <th class=\"blank col0\" >&nbsp;</th>\n",
       "      <th class=\"blank col1\" >&nbsp;</th>\n",
       "      <th class=\"blank col2\" >&nbsp;</th>\n",
       "      <th class=\"blank col3\" >&nbsp;</th>\n",
       "      <th class=\"blank col4\" >&nbsp;</th>\n",
       "      <th class=\"blank col5\" >&nbsp;</th>\n",
       "      <th class=\"blank col6\" >&nbsp;</th>\n",
       "      <th class=\"blank col7\" >&nbsp;</th>\n",
       "      <th class=\"blank col8\" >&nbsp;</th>\n",
       "      <th class=\"blank col9\" >&nbsp;</th>\n",
       "      <th class=\"blank col10\" >&nbsp;</th>\n",
       "      <th class=\"blank col11\" >&nbsp;</th>\n",
       "    </tr>\n",
       "  </thead>\n",
       "  <tbody>\n",
       "    <tr>\n",
       "      <th id=\"T_8337b_level0_row0\" class=\"row_heading level0 row0\" >1</th>\n",
       "      <td id=\"T_8337b_row0_col0\" class=\"data row0 col0\" >100.000000</td>\n",
       "      <td id=\"T_8337b_row0_col1\" class=\"data row0 col1\" >100.000000</td>\n",
       "      <td id=\"T_8337b_row0_col2\" class=\"data row0 col2\" >100.000000</td>\n",
       "      <td id=\"T_8337b_row0_col3\" class=\"data row0 col3\" >100.000000</td>\n",
       "      <td id=\"T_8337b_row0_col4\" class=\"data row0 col4\" >100.000000</td>\n",
       "      <td id=\"T_8337b_row0_col5\" class=\"data row0 col5\" >100.000000</td>\n",
       "      <td id=\"T_8337b_row0_col6\" class=\"data row0 col6\" >100.000000</td>\n",
       "      <td id=\"T_8337b_row0_col7\" class=\"data row0 col7\" >100.000000</td>\n",
       "      <td id=\"T_8337b_row0_col8\" class=\"data row0 col8\" >100.000000</td>\n",
       "      <td id=\"T_8337b_row0_col9\" class=\"data row0 col9\" >100.000000</td>\n",
       "      <td id=\"T_8337b_row0_col10\" class=\"data row0 col10\" >100.000000</td>\n",
       "      <td id=\"T_8337b_row0_col11\" class=\"data row0 col11\" >100.000000</td>\n",
       "    </tr>\n",
       "    <tr>\n",
       "      <th id=\"T_8337b_level0_row1\" class=\"row_heading level0 row1\" >2</th>\n",
       "      <td id=\"T_8337b_row1_col0\" class=\"data row1 col0\" >0.280505</td>\n",
       "      <td id=\"T_8337b_row1_col1\" class=\"data row1 col1\" >0.186104</td>\n",
       "      <td id=\"T_8337b_row1_col2\" class=\"data row1 col2\" >0.442122</td>\n",
       "      <td id=\"T_8337b_row1_col3\" class=\"data row1 col3\" >0.622222</td>\n",
       "      <td id=\"T_8337b_row1_col4\" class=\"data row1 col4\" >0.464306</td>\n",
       "      <td id=\"T_8337b_row1_col5\" class=\"data row1 col5\" >0.495050</td>\n",
       "      <td id=\"T_8337b_row1_col6\" class=\"data row1 col6\" >0.533333</td>\n",
       "      <td id=\"T_8337b_row1_col7\" class=\"data row1 col7\" >0.690506</td>\n",
       "      <td id=\"T_8337b_row1_col8\" class=\"data row1 col8\" >0.699825</td>\n",
       "      <td id=\"T_8337b_row1_col9\" class=\"data row1 col9\" >0.716763</td>\n",
       "      <td id=\"T_8337b_row1_col10\" class=\"data row1 col10\" >0.567859</td>\n",
       "      <td id=\"T_8337b_row1_col11\" class=\"data row1 col11\" >nan</td>\n",
       "    </tr>\n",
       "    <tr>\n",
       "      <th id=\"T_8337b_level0_row2\" class=\"row_heading level0 row2\" >3</th>\n",
       "      <td id=\"T_8337b_row2_col0\" class=\"data row2 col0\" >0.280505</td>\n",
       "      <td id=\"T_8337b_row2_col1\" class=\"data row2 col1\" >0.310174</td>\n",
       "      <td id=\"T_8337b_row2_col2\" class=\"data row2 col2\" >0.361736</td>\n",
       "      <td id=\"T_8337b_row2_col3\" class=\"data row2 col3\" >0.222222</td>\n",
       "      <td id=\"T_8337b_row2_col4\" class=\"data row2 col4\" >0.464306</td>\n",
       "      <td id=\"T_8337b_row2_col5\" class=\"data row2 col5\" >0.396040</td>\n",
       "      <td id=\"T_8337b_row2_col6\" class=\"data row2 col6\" >0.346667</td>\n",
       "      <td id=\"T_8337b_row2_col7\" class=\"data row2 col7\" >0.345253</td>\n",
       "      <td id=\"T_8337b_row2_col8\" class=\"data row2 col8\" >0.549863</td>\n",
       "      <td id=\"T_8337b_row2_col9\" class=\"data row2 col9\" >0.254335</td>\n",
       "      <td id=\"T_8337b_row2_col10\" class=\"data row2 col10\" >nan</td>\n",
       "      <td id=\"T_8337b_row2_col11\" class=\"data row2 col11\" >nan</td>\n",
       "    </tr>\n",
       "    <tr>\n",
       "      <th id=\"T_8337b_level0_row3\" class=\"row_heading level0 row3\" >4</th>\n",
       "      <td id=\"T_8337b_row3_col0\" class=\"data row3 col0\" >0.140252</td>\n",
       "      <td id=\"T_8337b_row3_col1\" class=\"data row3 col1\" >0.124069</td>\n",
       "      <td id=\"T_8337b_row3_col2\" class=\"data row3 col2\" >0.401929</td>\n",
       "      <td id=\"T_8337b_row3_col3\" class=\"data row3 col3\" >0.177778</td>\n",
       "      <td id=\"T_8337b_row3_col4\" class=\"data row3 col4\" >0.290192</td>\n",
       "      <td id=\"T_8337b_row3_col5\" class=\"data row3 col5\" >0.429043</td>\n",
       "      <td id=\"T_8337b_row3_col6\" class=\"data row3 col6\" >0.240000</td>\n",
       "      <td id=\"T_8337b_row3_col7\" class=\"data row3 col7\" >0.271270</td>\n",
       "      <td id=\"T_8337b_row3_col8\" class=\"data row3 col8\" >0.274931</td>\n",
       "      <td id=\"T_8337b_row3_col9\" class=\"data row3 col9\" >nan</td>\n",
       "      <td id=\"T_8337b_row3_col10\" class=\"data row3 col10\" >nan</td>\n",
       "      <td id=\"T_8337b_row3_col11\" class=\"data row3 col11\" >nan</td>\n",
       "    </tr>\n",
       "    <tr>\n",
       "      <th id=\"T_8337b_level0_row4\" class=\"row_heading level0 row4\" >5</th>\n",
       "      <td id=\"T_8337b_row4_col0\" class=\"data row4 col0\" >0.420757</td>\n",
       "      <td id=\"T_8337b_row4_col1\" class=\"data row4 col1\" >0.434243</td>\n",
       "      <td id=\"T_8337b_row4_col2\" class=\"data row4 col2\" >0.361736</td>\n",
       "      <td id=\"T_8337b_row4_col3\" class=\"data row4 col3\" >0.266667</td>\n",
       "      <td id=\"T_8337b_row4_col4\" class=\"data row4 col4\" >0.290192</td>\n",
       "      <td id=\"T_8337b_row4_col5\" class=\"data row4 col5\" >0.297030</td>\n",
       "      <td id=\"T_8337b_row4_col6\" class=\"data row4 col6\" >0.293333</td>\n",
       "      <td id=\"T_8337b_row4_col7\" class=\"data row4 col7\" >0.345253</td>\n",
       "      <td id=\"T_8337b_row4_col8\" class=\"data row4 col8\" >nan</td>\n",
       "      <td id=\"T_8337b_row4_col9\" class=\"data row4 col9\" >nan</td>\n",
       "      <td id=\"T_8337b_row4_col10\" class=\"data row4 col10\" >nan</td>\n",
       "      <td id=\"T_8337b_row4_col11\" class=\"data row4 col11\" >nan</td>\n",
       "    </tr>\n",
       "    <tr>\n",
       "      <th id=\"T_8337b_level0_row5\" class=\"row_heading level0 row5\" >6</th>\n",
       "      <td id=\"T_8337b_row5_col0\" class=\"data row5 col0\" >0.140252</td>\n",
       "      <td id=\"T_8337b_row5_col1\" class=\"data row5 col1\" >0.124069</td>\n",
       "      <td id=\"T_8337b_row5_col2\" class=\"data row5 col2\" >0.160772</td>\n",
       "      <td id=\"T_8337b_row5_col3\" class=\"data row5 col3\" >0.266667</td>\n",
       "      <td id=\"T_8337b_row5_col4\" class=\"data row5 col4\" >0.319211</td>\n",
       "      <td id=\"T_8337b_row5_col5\" class=\"data row5 col5\" >0.396040</td>\n",
       "      <td id=\"T_8337b_row5_col6\" class=\"data row5 col6\" >0.213333</td>\n",
       "      <td id=\"T_8337b_row5_col7\" class=\"data row5 col7\" >nan</td>\n",
       "      <td id=\"T_8337b_row5_col8\" class=\"data row5 col8\" >nan</td>\n",
       "      <td id=\"T_8337b_row5_col9\" class=\"data row5 col9\" >nan</td>\n",
       "      <td id=\"T_8337b_row5_col10\" class=\"data row5 col10\" >nan</td>\n",
       "      <td id=\"T_8337b_row5_col11\" class=\"data row5 col11\" >nan</td>\n",
       "    </tr>\n",
       "    <tr>\n",
       "      <th id=\"T_8337b_level0_row6\" class=\"row_heading level0 row6\" >7</th>\n",
       "      <td id=\"T_8337b_row6_col0\" class=\"data row6 col0\" >0.420757</td>\n",
       "      <td id=\"T_8337b_row6_col1\" class=\"data row6 col1\" >0.248139</td>\n",
       "      <td id=\"T_8337b_row6_col2\" class=\"data row6 col2\" >0.160772</td>\n",
       "      <td id=\"T_8337b_row6_col3\" class=\"data row6 col3\" >0.355556</td>\n",
       "      <td id=\"T_8337b_row6_col4\" class=\"data row6 col4\" >0.406268</td>\n",
       "      <td id=\"T_8337b_row6_col5\" class=\"data row6 col5\" >0.363036</td>\n",
       "      <td id=\"T_8337b_row6_col6\" class=\"data row6 col6\" >nan</td>\n",
       "      <td id=\"T_8337b_row6_col7\" class=\"data row6 col7\" >nan</td>\n",
       "      <td id=\"T_8337b_row6_col8\" class=\"data row6 col8\" >nan</td>\n",
       "      <td id=\"T_8337b_row6_col9\" class=\"data row6 col9\" >nan</td>\n",
       "      <td id=\"T_8337b_row6_col10\" class=\"data row6 col10\" >nan</td>\n",
       "      <td id=\"T_8337b_row6_col11\" class=\"data row6 col11\" >nan</td>\n",
       "    </tr>\n",
       "    <tr>\n",
       "      <th id=\"T_8337b_level0_row7\" class=\"row_heading level0 row7\" >8</th>\n",
       "      <td id=\"T_8337b_row7_col0\" class=\"data row7 col0\" >0.140252</td>\n",
       "      <td id=\"T_8337b_row7_col1\" class=\"data row7 col1\" >0.186104</td>\n",
       "      <td id=\"T_8337b_row7_col2\" class=\"data row7 col2\" >0.321543</td>\n",
       "      <td id=\"T_8337b_row7_col3\" class=\"data row7 col3\" >0.311111</td>\n",
       "      <td id=\"T_8337b_row7_col4\" class=\"data row7 col4\" >0.145096</td>\n",
       "      <td id=\"T_8337b_row7_col5\" class=\"data row7 col5\" >nan</td>\n",
       "      <td id=\"T_8337b_row7_col6\" class=\"data row7 col6\" >nan</td>\n",
       "      <td id=\"T_8337b_row7_col7\" class=\"data row7 col7\" >nan</td>\n",
       "      <td id=\"T_8337b_row7_col8\" class=\"data row7 col8\" >nan</td>\n",
       "      <td id=\"T_8337b_row7_col9\" class=\"data row7 col9\" >nan</td>\n",
       "      <td id=\"T_8337b_row7_col10\" class=\"data row7 col10\" >nan</td>\n",
       "      <td id=\"T_8337b_row7_col11\" class=\"data row7 col11\" >nan</td>\n",
       "    </tr>\n",
       "    <tr>\n",
       "      <th id=\"T_8337b_level0_row8\" class=\"row_heading level0 row8\" >9</th>\n",
       "      <td id=\"T_8337b_row8_col0\" class=\"data row8 col0\" >0.140252</td>\n",
       "      <td id=\"T_8337b_row8_col1\" class=\"data row8 col1\" >0.062035</td>\n",
       "      <td id=\"T_8337b_row8_col2\" class=\"data row8 col2\" >0.321543</td>\n",
       "      <td id=\"T_8337b_row8_col3\" class=\"data row8 col3\" >0.311111</td>\n",
       "      <td id=\"T_8337b_row8_col4\" class=\"data row8 col4\" >nan</td>\n",
       "      <td id=\"T_8337b_row8_col5\" class=\"data row8 col5\" >nan</td>\n",
       "      <td id=\"T_8337b_row8_col6\" class=\"data row8 col6\" >nan</td>\n",
       "      <td id=\"T_8337b_row8_col7\" class=\"data row8 col7\" >nan</td>\n",
       "      <td id=\"T_8337b_row8_col8\" class=\"data row8 col8\" >nan</td>\n",
       "      <td id=\"T_8337b_row8_col9\" class=\"data row8 col9\" >nan</td>\n",
       "      <td id=\"T_8337b_row8_col10\" class=\"data row8 col10\" >nan</td>\n",
       "      <td id=\"T_8337b_row8_col11\" class=\"data row8 col11\" >nan</td>\n",
       "    </tr>\n",
       "    <tr>\n",
       "      <th id=\"T_8337b_level0_row9\" class=\"row_heading level0 row9\" >10</th>\n",
       "      <td id=\"T_8337b_row9_col0\" class=\"data row9 col0\" >0.420757</td>\n",
       "      <td id=\"T_8337b_row9_col1\" class=\"data row9 col1\" >0.186104</td>\n",
       "      <td id=\"T_8337b_row9_col2\" class=\"data row9 col2\" >0.080386</td>\n",
       "      <td id=\"T_8337b_row9_col3\" class=\"data row9 col3\" >nan</td>\n",
       "      <td id=\"T_8337b_row9_col4\" class=\"data row9 col4\" >nan</td>\n",
       "      <td id=\"T_8337b_row9_col5\" class=\"data row9 col5\" >nan</td>\n",
       "      <td id=\"T_8337b_row9_col6\" class=\"data row9 col6\" >nan</td>\n",
       "      <td id=\"T_8337b_row9_col7\" class=\"data row9 col7\" >nan</td>\n",
       "      <td id=\"T_8337b_row9_col8\" class=\"data row9 col8\" >nan</td>\n",
       "      <td id=\"T_8337b_row9_col9\" class=\"data row9 col9\" >nan</td>\n",
       "      <td id=\"T_8337b_row9_col10\" class=\"data row9 col10\" >nan</td>\n",
       "      <td id=\"T_8337b_row9_col11\" class=\"data row9 col11\" >nan</td>\n",
       "    </tr>\n",
       "    <tr>\n",
       "      <th id=\"T_8337b_level0_row10\" class=\"row_heading level0 row10\" >11</th>\n",
       "      <td id=\"T_8337b_row10_col0\" class=\"data row10 col0\" >0.140252</td>\n",
       "      <td id=\"T_8337b_row10_col1\" class=\"data row10 col1\" >0.124069</td>\n",
       "      <td id=\"T_8337b_row10_col2\" class=\"data row10 col2\" >nan</td>\n",
       "      <td id=\"T_8337b_row10_col3\" class=\"data row10 col3\" >nan</td>\n",
       "      <td id=\"T_8337b_row10_col4\" class=\"data row10 col4\" >nan</td>\n",
       "      <td id=\"T_8337b_row10_col5\" class=\"data row10 col5\" >nan</td>\n",
       "      <td id=\"T_8337b_row10_col6\" class=\"data row10 col6\" >nan</td>\n",
       "      <td id=\"T_8337b_row10_col7\" class=\"data row10 col7\" >nan</td>\n",
       "      <td id=\"T_8337b_row10_col8\" class=\"data row10 col8\" >nan</td>\n",
       "      <td id=\"T_8337b_row10_col9\" class=\"data row10 col9\" >nan</td>\n",
       "      <td id=\"T_8337b_row10_col10\" class=\"data row10 col10\" >nan</td>\n",
       "      <td id=\"T_8337b_row10_col11\" class=\"data row10 col11\" >nan</td>\n",
       "    </tr>\n",
       "  </tbody>\n",
       "</table>\n"
      ],
      "text/plain": [
       "<pandas.io.formats.style.Styler at 0x1a748379150>"
      ]
     },
     "execution_count": 41,
     "metadata": {},
     "output_type": "execute_result"
    }
   ],
   "source": [
    "user_retention = cohorts['total_users'].unstack(1) \\\n",
    "                                       .divide(cohort_group_size, axis=1) \\\n",
    "                                       .mul(100)\n",
    "# Считаем retention\n",
    "\n",
    "user_retention.style.highlight_max(axis=1, subset=pd.IndexSlice[3, :])\n",
    "# Находим когорту с самым высоким retention на 3й месяц, это оказались пользователи, совершившие первую покупку в сентябре"
   ]
  },
  {
   "cell_type": "markdown",
   "metadata": {},
   "source": [
    "# Построить RFM-сегментацию пользователей, чтобы качественно оценить аудиторию."
   ]
  },
  {
   "cell_type": "code",
   "execution_count": 42,
   "metadata": {},
   "outputs": [],
   "source": [
    "df = items.groupby('order_id', as_index=False).price.sum()\n",
    "\n",
    "rfm = pd.merge(purchases_by_month[['customer_unique_id', 'order_id', 'order_purchase_timestamp']],\n",
    "                               df[['order_id', 'price']], \n",
    "                               on='order_id')\n",
    "# Создаем новый датафрейм для дальнейшей работы"
   ]
  },
  {
   "cell_type": "code",
   "execution_count": 43,
   "metadata": {},
   "outputs": [
    {
     "data": {
      "text/plain": [
       "Timestamp('2018-08-30 15:00:37')"
      ]
     },
     "execution_count": 43,
     "metadata": {},
     "output_type": "execute_result"
    }
   ],
   "source": [
    "from datetime import timedelta\n",
    "\n",
    "today_date = rfm['order_purchase_timestamp'].max() + timedelta(days=1)\n",
    "today_date\n",
    "# Примем за текущую дату"
   ]
  },
  {
   "cell_type": "code",
   "execution_count": 44,
   "metadata": {},
   "outputs": [],
   "source": [
    "rfm = rfm.groupby('customer_unique_id', as_index=False) \\\n",
    "         .agg({'order_purchase_timestamp' : lambda x: (today_date - x.max()).total_seconds()/86400,\n",
    "               'order_id' : 'count',\n",
    "               'price' : 'sum'})\n",
    "\n",
    "rfm.rename(columns={'order_purchase_timestamp' : 'recency',\n",
    "                    'order_id' : 'frequency',\n",
    "                    'price' : 'monetary'}, inplace=True)\n",
    "# Редактируем дф "
   ]
  },
  {
   "cell_type": "code",
   "execution_count": 45,
   "metadata": {},
   "outputs": [
    {
     "data": {
      "text/html": [
       "<div>\n",
       "<style scoped>\n",
       "    .dataframe tbody tr th:only-of-type {\n",
       "        vertical-align: middle;\n",
       "    }\n",
       "\n",
       "    .dataframe tbody tr th {\n",
       "        vertical-align: top;\n",
       "    }\n",
       "\n",
       "    .dataframe thead th {\n",
       "        text-align: right;\n",
       "    }\n",
       "</style>\n",
       "<table border=\"1\" class=\"dataframe\">\n",
       "  <thead>\n",
       "    <tr style=\"text-align: right;\">\n",
       "      <th></th>\n",
       "      <th>customer_unique_id</th>\n",
       "      <th>recency</th>\n",
       "      <th>frequency</th>\n",
       "      <th>monetary</th>\n",
       "    </tr>\n",
       "  </thead>\n",
       "  <tbody>\n",
       "    <tr>\n",
       "      <th>0</th>\n",
       "      <td>0000366f3b9a7992bf8c76cfdf3221e2</td>\n",
       "      <td>112.169560</td>\n",
       "      <td>1</td>\n",
       "      <td>129.90</td>\n",
       "    </tr>\n",
       "    <tr>\n",
       "      <th>1</th>\n",
       "      <td>0000b849f77a49e4a4ce2b2a4ca5be3f</td>\n",
       "      <td>115.159144</td>\n",
       "      <td>1</td>\n",
       "      <td>18.90</td>\n",
       "    </tr>\n",
       "    <tr>\n",
       "      <th>2</th>\n",
       "      <td>0000f46a3911fa3c0805444483337064</td>\n",
       "      <td>537.746921</td>\n",
       "      <td>1</td>\n",
       "      <td>69.00</td>\n",
       "    </tr>\n",
       "    <tr>\n",
       "      <th>3</th>\n",
       "      <td>0000f6ccb0745a6a4b88665a16c9f078</td>\n",
       "      <td>321.771481</td>\n",
       "      <td>1</td>\n",
       "      <td>25.99</td>\n",
       "    </tr>\n",
       "    <tr>\n",
       "      <th>4</th>\n",
       "      <td>0004aac84e0df4da2b147fca70cf8255</td>\n",
       "      <td>288.802025</td>\n",
       "      <td>1</td>\n",
       "      <td>180.00</td>\n",
       "    </tr>\n",
       "  </tbody>\n",
       "</table>\n",
       "</div>"
      ],
      "text/plain": [
       "                 customer_unique_id     recency  frequency  monetary\n",
       "0  0000366f3b9a7992bf8c76cfdf3221e2  112.169560          1    129.90\n",
       "1  0000b849f77a49e4a4ce2b2a4ca5be3f  115.159144          1     18.90\n",
       "2  0000f46a3911fa3c0805444483337064  537.746921          1     69.00\n",
       "3  0000f6ccb0745a6a4b88665a16c9f078  321.771481          1     25.99\n",
       "4  0004aac84e0df4da2b147fca70cf8255  288.802025          1    180.00"
      ]
     },
     "execution_count": 45,
     "metadata": {},
     "output_type": "execute_result"
    }
   ],
   "source": [
    "rfm.head(5)\n",
    "# Нужный дф для дальнейшей работы и оценки"
   ]
  },
  {
   "cell_type": "code",
   "execution_count": 46,
   "metadata": {},
   "outputs": [],
   "source": [
    "rfm['r'] = 5 - (pd.qcut(rfm['recency'], 4, labels=False) + 1)\n",
    "# Оцениваем recency"
   ]
  },
  {
   "cell_type": "markdown",
   "metadata": {},
   "source": [
    "По frequency имеется явно выраженное смещение, поэтому нужна функция для отдельной оценки frequency"
   ]
  },
  {
   "cell_type": "code",
   "execution_count": 47,
   "metadata": {},
   "outputs": [],
   "source": [
    "def get_f(x):\n",
    "    if x in [1]:\n",
    "        return 1\n",
    "    if x in [2, 3]:\n",
    "        return 2\n",
    "    if x in [4, 5, 6]:\n",
    "        return 3\n",
    "    return 4\n",
    "# Функция для оценки frequency"
   ]
  },
  {
   "cell_type": "code",
   "execution_count": 48,
   "metadata": {},
   "outputs": [],
   "source": [
    "rfm['f'] = rfm['frequency'].apply(get_f)\n",
    "# Оцениваем frequency"
   ]
  },
  {
   "cell_type": "code",
   "execution_count": 49,
   "metadata": {},
   "outputs": [],
   "source": [
    "rfm['m'] = pd.qcut(rfm['monetary'], 4, labels=False) + 1\n",
    "# Оцениваем monetary"
   ]
  },
  {
   "cell_type": "code",
   "execution_count": 50,
   "metadata": {},
   "outputs": [],
   "source": [
    "rfm['rfm_score'] = ((rfm['r'] + rfm['f'] + rfm['m']) / 3).round(2)\n",
    "# Считаем rfm_score"
   ]
  },
  {
   "cell_type": "code",
   "execution_count": 51,
   "metadata": {},
   "outputs": [],
   "source": [
    "rfm['RFM_Score'] = rfm['r'].map(str) + rfm['f'].map(str) + rfm['m'].map(str)\n",
    "# Добавим новый столбец, содержащий комбинацию столбцов 'R', 'F' и 'M' в виде строковых значений"
   ]
  },
  {
   "cell_type": "markdown",
   "metadata": {},
   "source": [
    "\"champions\": Клиенты с высокими значениями R, F и M. Это наиболее ценные клиенты, которые совершают частые и крупные покупки.\n",
    "\n",
    "\"loyal_customers\": Клиенты, которые также имеют высокие значения R и F, но более низкий уровень M (от 1 до 2). Это постоянные клиенты, которые могут быть меньше склонны к повторным покупкам, но все еще остаются преданы компании.\n",
    "\n",
    "\"promising\": Клиенты с высокими значениями R и M, но более низким значением F (от 1 до 2). Это новые клиенты, которые делают крупные покупки и имеют потенциал для развития долгосрочных отношений с компанией.\n",
    "\n",
    "\"new_customers\": Клиенты с низкими значениями F и M (от 1 до 2). Это новые клиенты, которые могут иметь потенциал, но еще не показали своей лояльности. Они требуют большего внимания и усилий для удержания.\n",
    "\n",
    "\"can't_lose_them\": Это клиенты, которые делают частые покупки, но возможно имеют низкую лояльность. Они являются ценными клиентами, но требуют внимания, чтобы удержать их.\n",
    "\n",
    "\"customers_needing_attention\": Клиенты с более высоким значением F, но более низкими значениями R и M (от 1 до 2). Это клиенты, которые делают некоторые покупки, но возможно нуждаются в дополнительной мотивации или внимании, чтобы стать более лояльными.\n",
    "\n",
    "\"at_risk\": Клиенты с более низкими значениями R и F, но высоким значением M (от 3 до 4). Это клиенты, которые делают редкие покупки, но могут иметь потенциал для развития. Они нуждаются в особенном внимании, чтобы продолжать делать покупки.\n",
    "\n",
    "\"hibernating\": Клиенты с низкими значениями R, F и M (от 1 до 2). Это клиенты, которые не делают покупок в течение длительного времени и могут потенциально уйти к конкурентам. Они требуют серьезных усилий, чтобы вернуть их в активное состояние и заинтересовать в продуктах и услугах компании."
   ]
  },
  {
   "cell_type": "code",
   "execution_count": 52,
   "metadata": {},
   "outputs": [
    {
     "data": {
      "text/html": [
       "<div>\n",
       "<style scoped>\n",
       "    .dataframe tbody tr th:only-of-type {\n",
       "        vertical-align: middle;\n",
       "    }\n",
       "\n",
       "    .dataframe tbody tr th {\n",
       "        vertical-align: top;\n",
       "    }\n",
       "\n",
       "    .dataframe thead th {\n",
       "        text-align: right;\n",
       "    }\n",
       "</style>\n",
       "<table border=\"1\" class=\"dataframe\">\n",
       "  <thead>\n",
       "    <tr style=\"text-align: right;\">\n",
       "      <th></th>\n",
       "      <th>customer_unique_id</th>\n",
       "      <th>recency</th>\n",
       "      <th>frequency</th>\n",
       "      <th>monetary</th>\n",
       "      <th>r</th>\n",
       "      <th>f</th>\n",
       "      <th>m</th>\n",
       "      <th>rfm_score</th>\n",
       "      <th>RFM_Score</th>\n",
       "      <th>Segment</th>\n",
       "    </tr>\n",
       "  </thead>\n",
       "  <tbody>\n",
       "    <tr>\n",
       "      <th>0</th>\n",
       "      <td>0000366f3b9a7992bf8c76cfdf3221e2</td>\n",
       "      <td>112.169560</td>\n",
       "      <td>1</td>\n",
       "      <td>129.90</td>\n",
       "      <td>4</td>\n",
       "      <td>1</td>\n",
       "      <td>3</td>\n",
       "      <td>2.67</td>\n",
       "      <td>413</td>\n",
       "      <td>promising</td>\n",
       "    </tr>\n",
       "    <tr>\n",
       "      <th>1</th>\n",
       "      <td>0000b849f77a49e4a4ce2b2a4ca5be3f</td>\n",
       "      <td>115.159144</td>\n",
       "      <td>1</td>\n",
       "      <td>18.90</td>\n",
       "      <td>3</td>\n",
       "      <td>1</td>\n",
       "      <td>1</td>\n",
       "      <td>1.67</td>\n",
       "      <td>311</td>\n",
       "      <td>new_customers</td>\n",
       "    </tr>\n",
       "    <tr>\n",
       "      <th>2</th>\n",
       "      <td>0000f46a3911fa3c0805444483337064</td>\n",
       "      <td>537.746921</td>\n",
       "      <td>1</td>\n",
       "      <td>69.00</td>\n",
       "      <td>1</td>\n",
       "      <td>1</td>\n",
       "      <td>2</td>\n",
       "      <td>1.33</td>\n",
       "      <td>112</td>\n",
       "      <td>hibernating</td>\n",
       "    </tr>\n",
       "    <tr>\n",
       "      <th>3</th>\n",
       "      <td>0000f6ccb0745a6a4b88665a16c9f078</td>\n",
       "      <td>321.771481</td>\n",
       "      <td>1</td>\n",
       "      <td>25.99</td>\n",
       "      <td>2</td>\n",
       "      <td>1</td>\n",
       "      <td>1</td>\n",
       "      <td>1.33</td>\n",
       "      <td>211</td>\n",
       "      <td>hibernating</td>\n",
       "    </tr>\n",
       "    <tr>\n",
       "      <th>4</th>\n",
       "      <td>0004aac84e0df4da2b147fca70cf8255</td>\n",
       "      <td>288.802025</td>\n",
       "      <td>1</td>\n",
       "      <td>180.00</td>\n",
       "      <td>2</td>\n",
       "      <td>1</td>\n",
       "      <td>4</td>\n",
       "      <td>2.33</td>\n",
       "      <td>214</td>\n",
       "      <td>at_risk</td>\n",
       "    </tr>\n",
       "  </tbody>\n",
       "</table>\n",
       "</div>"
      ],
      "text/plain": [
       "                 customer_unique_id     recency  frequency  monetary  r  f  m  \\\n",
       "0  0000366f3b9a7992bf8c76cfdf3221e2  112.169560          1    129.90  4  1  3   \n",
       "1  0000b849f77a49e4a4ce2b2a4ca5be3f  115.159144          1     18.90  3  1  1   \n",
       "2  0000f46a3911fa3c0805444483337064  537.746921          1     69.00  1  1  2   \n",
       "3  0000f6ccb0745a6a4b88665a16c9f078  321.771481          1     25.99  2  1  1   \n",
       "4  0004aac84e0df4da2b147fca70cf8255  288.802025          1    180.00  2  1  4   \n",
       "\n",
       "   rfm_score RFM_Score        Segment  \n",
       "0       2.67       413      promising  \n",
       "1       1.67       311  new_customers  \n",
       "2       1.33       112    hibernating  \n",
       "3       1.33       211    hibernating  \n",
       "4       2.33       214        at_risk  "
      ]
     },
     "execution_count": 52,
     "metadata": {},
     "output_type": "execute_result"
    }
   ],
   "source": [
    "segments = {\n",
    "    r'[3-4][3-4][3-4]': 'champions',\n",
    "    r'[3-4][2-3][1-2]': 'loyal_customers',\n",
    "    r'[3-4][1-2][3-4]': 'promising',\n",
    "    r'[3-4][1-2][1-2]': 'new_customers',\n",
    "    r'[1-2][3-4][3-4]': 'can’t_lose_them',\n",
    "    r'[1-2][3-4][1-2]': 'customers_needing_attention',\n",
    "    r'[1-2][1-2][3-4]': 'at_risk',\n",
    "    r'[1-2][1-2][1-2]': 'hibernating'\n",
    "}\n",
    "\n",
    "# Определяем сегмент\n",
    "\n",
    "# Добавим в датафрейм столбец, содержащий название сегмента:\n",
    "rfm['Segment'] = rfm['RFM_Score'].replace(segments, regex=True)\n",
    "rfm.head()"
   ]
  },
  {
   "cell_type": "code",
   "execution_count": 53,
   "metadata": {
    "scrolled": true
   },
   "outputs": [
    {
     "data": {
      "text/html": [
       "<div>\n",
       "<style scoped>\n",
       "    .dataframe tbody tr th:only-of-type {\n",
       "        vertical-align: middle;\n",
       "    }\n",
       "\n",
       "    .dataframe tbody tr th {\n",
       "        vertical-align: top;\n",
       "    }\n",
       "\n",
       "    .dataframe thead th {\n",
       "        text-align: right;\n",
       "    }\n",
       "</style>\n",
       "<table border=\"1\" class=\"dataframe\">\n",
       "  <thead>\n",
       "    <tr style=\"text-align: right;\">\n",
       "      <th></th>\n",
       "      <th>Segment</th>\n",
       "      <th>count</th>\n",
       "    </tr>\n",
       "  </thead>\n",
       "  <tbody>\n",
       "    <tr>\n",
       "      <th>0</th>\n",
       "      <td>hibernating</td>\n",
       "      <td>23558</td>\n",
       "    </tr>\n",
       "    <tr>\n",
       "      <th>1</th>\n",
       "      <td>promising</td>\n",
       "      <td>23508</td>\n",
       "    </tr>\n",
       "    <tr>\n",
       "      <th>2</th>\n",
       "      <td>at_risk</td>\n",
       "      <td>23023</td>\n",
       "    </tr>\n",
       "    <tr>\n",
       "      <th>3</th>\n",
       "      <td>new_customers</td>\n",
       "      <td>22813</td>\n",
       "    </tr>\n",
       "    <tr>\n",
       "      <th>4</th>\n",
       "      <td>loyal_customers</td>\n",
       "      <td>233</td>\n",
       "    </tr>\n",
       "    <tr>\n",
       "      <th>5</th>\n",
       "      <td>champions</td>\n",
       "      <td>37</td>\n",
       "    </tr>\n",
       "    <tr>\n",
       "      <th>6</th>\n",
       "      <td>can’t_lose_them</td>\n",
       "      <td>7</td>\n",
       "    </tr>\n",
       "    <tr>\n",
       "      <th>7</th>\n",
       "      <td>customers_needing_attention</td>\n",
       "      <td>3</td>\n",
       "    </tr>\n",
       "  </tbody>\n",
       "</table>\n",
       "</div>"
      ],
      "text/plain": [
       "                       Segment  count\n",
       "0                  hibernating  23558\n",
       "1                    promising  23508\n",
       "2                      at_risk  23023\n",
       "3                new_customers  22813\n",
       "4              loyal_customers    233\n",
       "5                    champions     37\n",
       "6              can’t_lose_them      7\n",
       "7  customers_needing_attention      3"
      ]
     },
     "execution_count": 53,
     "metadata": {},
     "output_type": "execute_result"
    }
   ],
   "source": [
    "segments = rfm.groupby('Segment')['monetary'] \\\n",
    "              .agg(['count']) \\\n",
    "              .sort_values('count', ascending = False) \\\n",
    "              .reset_index()\n",
    "segments\n",
    "# Создаем датафрейм с сегментами и количеством пользователей"
   ]
  },
  {
   "cell_type": "code",
   "execution_count": 54,
   "metadata": {},
   "outputs": [
    {
     "data": {
      "text/html": [
       "<div>\n",
       "<style scoped>\n",
       "    .dataframe tbody tr th:only-of-type {\n",
       "        vertical-align: middle;\n",
       "    }\n",
       "\n",
       "    .dataframe tbody tr th {\n",
       "        vertical-align: top;\n",
       "    }\n",
       "\n",
       "    .dataframe thead th {\n",
       "        text-align: right;\n",
       "    }\n",
       "</style>\n",
       "<table border=\"1\" class=\"dataframe\">\n",
       "  <thead>\n",
       "    <tr style=\"text-align: right;\">\n",
       "      <th></th>\n",
       "      <th>frequency</th>\n",
       "      <th>users</th>\n",
       "    </tr>\n",
       "  </thead>\n",
       "  <tbody>\n",
       "    <tr>\n",
       "      <th>0</th>\n",
       "      <td>1</td>\n",
       "      <td>90386</td>\n",
       "    </tr>\n",
       "    <tr>\n",
       "      <th>1</th>\n",
       "      <td>2</td>\n",
       "      <td>2568</td>\n",
       "    </tr>\n",
       "    <tr>\n",
       "      <th>2</th>\n",
       "      <td>3</td>\n",
       "      <td>181</td>\n",
       "    </tr>\n",
       "    <tr>\n",
       "      <th>3</th>\n",
       "      <td>4</td>\n",
       "      <td>28</td>\n",
       "    </tr>\n",
       "    <tr>\n",
       "      <th>4</th>\n",
       "      <td>5</td>\n",
       "      <td>9</td>\n",
       "    </tr>\n",
       "    <tr>\n",
       "      <th>5</th>\n",
       "      <td>6</td>\n",
       "      <td>5</td>\n",
       "    </tr>\n",
       "    <tr>\n",
       "      <th>6</th>\n",
       "      <td>7</td>\n",
       "      <td>3</td>\n",
       "    </tr>\n",
       "    <tr>\n",
       "      <th>7</th>\n",
       "      <td>9</td>\n",
       "      <td>1</td>\n",
       "    </tr>\n",
       "    <tr>\n",
       "      <th>8</th>\n",
       "      <td>15</td>\n",
       "      <td>1</td>\n",
       "    </tr>\n",
       "  </tbody>\n",
       "</table>\n",
       "</div>"
      ],
      "text/plain": [
       "   frequency  users\n",
       "0          1  90386\n",
       "1          2   2568\n",
       "2          3    181\n",
       "3          4     28\n",
       "4          5      9\n",
       "5          6      5\n",
       "6          7      3\n",
       "7          9      1\n",
       "8         15      1"
      ]
     },
     "execution_count": 54,
     "metadata": {},
     "output_type": "execute_result"
    }
   ],
   "source": [
    "rfm.groupby('frequency', as_index=False) \\\n",
    "   .customer_unique_id.count() \\\n",
    "   .rename(columns={'customer_unique_id':'users'})\n",
    "# Количество пользователей по числу покупок, как видно, большинство покупают очень мало"
   ]
  },
  {
   "cell_type": "code",
   "execution_count": 55,
   "metadata": {},
   "outputs": [
    {
     "data": {
      "image/png": "[encoded data removed]",
      "text/plain": [
       "<Figure size 1200x500 with 1 Axes>"
      ]
     },
     "metadata": {},
     "output_type": "display_data"
    }
   ],
   "source": [
    "plt.figure(figsize=(12, 5))\n",
    "sns.set_style(\"darkgrid\")\n",
    "ax = sns.barplot(data=segments, y='Segment', x='count')\n",
    "plt.xlabel('Amount of users', size=16)\n",
    "plt.ylabel('Segment', size=16)\n",
    "plt.title('Users by segment', size=18)\n",
    "ax.set_yticklabels(ax.get_yticklabels(), rotation=0)\n",
    "\n",
    "# Добавляем значения\n",
    "for i, v in enumerate(segments['count']):\n",
    "    ax.text(v + 0.2, i, str(v), color='black', fontsize=12, ha='left', va='center')\n",
    "\n",
    "plt.show()"
   ]
  },
  {
   "cell_type": "markdown",
   "metadata": {},
   "source": [
    "Из представленных данных можно сделать следующие выводы:\n",
    "\n",
    "1. Большинство покупателей относятся к сегментам \"hibernating\", \"promising\" и \"at_risk\", то есть либо давно не совершали покупок, либо недостаточно часто и не слишком много тратят.\n",
    "2. Очень малое количество покупателей относятся к сегментам \"champions\", \"can’t_lose_them\" и \"customers_needing_attention\", что говорит о том, что необходимо обратить на них особое внимание и разработать меры по удержанию и привлечению данной аудитории.\n",
    "3. Сегмент \"loyal_customers\" также имеет небольшое количество покупателей, но они покупают на регулярной основе и реагируют на акции и специальные предложения.\n",
    "\n",
    "На основании этой информации можно предложить следующие меры по улучшению ситуации:\n",
    "\n",
    "1. Разработать маркетинговую стратегию для сегментов \"champions\", \"can’t_lose_them\" и \"customers_needing_attention\" с целью увеличения количества покупателей в этих группах.\n",
    "2. Проводить акции и специальные предложения для удержания покупателей в сегменте \"loyal_customers\".\n",
    "3. Анализировать причины, по которым покупатели попадают в сегменты \"hibernating\", \"promising\" и \"at_risk\", и разрабатывать меры для увеличения их участия в программе лояльности и повышения среднего чека.\n",
    "4. Использовать инструменты автоматизации маркетинга, такие как email-рассылки, SMS-рассылки и push-уведомления, для поддержания связи с покупателями и уведомления их о новых акциях и предложениях."
   ]
  },
  {
   "cell_type": "code",
   "execution_count": null,
   "metadata": {},
   "outputs": [],
   "source": []
  }
 ],
 "metadata": {
  "kernelspec": {
   "display_name": "Python 3 (ipykernel)",
   "language": "python",
   "name": "python3"
  },
  "language_info": {
   "codemirror_mode": {
    "name": "ipython",
    "version": 3
   },
   "file_extension": ".py",
   "mimetype": "text/x-python",
   "name": "python",
   "nbconvert_exporter": "python",
   "pygments_lexer": "ipython3",
   "version": "3.11.3"
  }
 },
 "nbformat": 4,
 "nbformat_minor": 4
}
